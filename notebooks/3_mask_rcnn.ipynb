{
 "cells": [
  {
   "cell_type": "code",
   "execution_count": 1,
   "id": "299067ab",
   "metadata": {},
   "outputs": [
    {
     "name": "stdout",
     "output_type": "stream",
     "text": [
      "/Users/rubenbroekx/Documents/Projects/agoro-field-boundary-detector\n"
     ]
    }
   ],
   "source": [
    "%load_ext autoreload\n",
    "%autoreload 2\n",
    "\n",
    "%cd .."
   ]
  },
  {
   "cell_type": "markdown",
   "id": "2da7ead4",
   "metadata": {},
   "source": [
    "# Mask RCNN\n",
    "\n",
    "Train a Mask RCNN to perform instance segmentation."
   ]
  },
  {
   "cell_type": "code",
   "execution_count": 2,
   "id": "d574d053",
   "metadata": {},
   "outputs": [],
   "source": [
    "from pathlib import Path\n",
    "\n",
    "from src.agoro_field_boundary_detector.field_detection import FieldBoundaryDetector, Dataset"
   ]
  },
  {
   "cell_type": "code",
   "execution_count": 6,
   "id": "b6ce7e8d",
   "metadata": {},
   "outputs": [],
   "source": [
    "# Create often-used paths\n",
    "DATA = Path.cwd() / 'data'\n",
    "MODELS = Path.cwd() / 'models'"
   ]
  },
  {
   "cell_type": "code",
   "execution_count": null,
   "id": "60b1ef25",
   "metadata": {},
   "outputs": [],
   "source": []
  },
  {
   "cell_type": "code",
   "execution_count": null,
   "id": "c98d8fd3",
   "metadata": {},
   "outputs": [],
   "source": []
  },
  {
   "cell_type": "code",
   "execution_count": 8,
   "id": "d736a6fd",
   "metadata": {},
   "outputs": [
    {
     "name": "stdout",
     "output_type": "stream",
     "text": [
      "Number of training samples: 1500\n",
      "Number of testing  samples: 10\n"
     ]
    }
   ],
   "source": [
    "# Load in training and testing data\n",
    "dataset_train = Dataset(DATA / 'augmented')\n",
    "print(f\"Number of training samples: {len(dataset_train)}\")\n",
    "dataset_test = Dataset(DATA / 'test')\n",
    "print(f\"Number of testing  samples: {len(dataset_test)}\")"
   ]
  },
  {
   "cell_type": "code",
   "execution_count": null,
   "id": "bc7bc70a",
   "metadata": {},
   "outputs": [],
   "source": []
  },
  {
   "cell_type": "code",
   "execution_count": null,
   "id": "9fa84989",
   "metadata": {},
   "outputs": [],
   "source": []
  },
  {
   "cell_type": "code",
   "execution_count": 5,
   "id": "e8bc2d2b",
   "metadata": {},
   "outputs": [],
   "source": [
    "field_detector = FieldBoundaryDetector(model_path=MODELS / 'test')"
   ]
  },
  {
   "cell_type": "code",
   "execution_count": null,
   "id": "d4764dcc",
   "metadata": {},
   "outputs": [],
   "source": [
    "field_detector.train(\n",
    "    dataset=dataset_train,\n",
    ")"
   ]
  },
  {
   "cell_type": "code",
   "execution_count": null,
   "id": "2f417f68",
   "metadata": {},
   "outputs": [],
   "source": []
  },
  {
   "cell_type": "code",
   "execution_count": null,
   "id": "0bfe4adf",
   "metadata": {},
   "outputs": [],
   "source": []
  }
 ],
 "metadata": {
  "hide_input": false,
  "kernelspec": {
   "display_name": "Python 3",
   "language": "python",
   "name": "python3"
  },
  "language_info": {
   "codemirror_mode": {
    "name": "ipython",
    "version": 3
   },
   "file_extension": ".py",
   "mimetype": "text/x-python",
   "name": "python",
   "nbconvert_exporter": "python",
   "pygments_lexer": "ipython3",
   "version": "3.8.10"
  }
 },
 "nbformat": 4,
 "nbformat_minor": 5
}
